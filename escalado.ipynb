{
 "cells": [
  {
   "cell_type": "code",
   "execution_count": 11,
   "metadata": {},
   "outputs": [],
   "source": [
    "# 1. Recorro la tabla para encontrar minsimo y maxsimo de cada columna (usando una lista de maxs y una de mins)\n",
    "# 2. Recorro la tabla para escribir en el nuevo csv el dato escalado\n",
    "\n",
    "import csv\n",
    "archivoEntrada = open(\"rawTV.csv\")\n",
    "entrada = csv.reader(archivoEntrada, delimiter=\",\")\n",
    "archivoSalida=open(\"escalado.csv\",\"w\")\n",
    "salida=csv.writer(archivoSalida, delimiter=',')\n",
    "\n",
    "# 1\n",
    "maxs = []\n",
    "mins = []\n",
    "i = 0 # Fila\n",
    "for row in entrada:\n",
    "    j = 0 # Columna\n",
    "    if (i != 0): # La primera fila no interesa\n",
    "        for dato in row:\n",
    "            if (j > 1): #Date y Date_Pretty no\n",
    "                if (i == 1): # Guardo inicialmente el valor de la primera fila\n",
    "                    maxs.append(dato)\n",
    "                    mins.append(dato)\n",
    "                else: # Recorro y actualizo maxs y mins\n",
    "                    \n",
    "                       \n",
    "                    if (float(maxs[j-2]) < float(dato)):\n",
    "                        \n",
    "                        maxs[j-2] = dato\n",
    "                    if (float(mins[j-2]) > float(dato)):\n",
    "                        mins[j-2] = dato\n",
    "            j = j + 1\n",
    "    i = i + 1\n",
    "\n",
    "\n",
    "\n",
    "escalado = []\n",
    "# 2\n",
    "archivoEntrada.seek(0) #Volver al comienzo del csv\n",
    "i = 0 # Fila\n",
    "for row in entrada:\n",
    "    j = 0 # Columna\n",
    "    escalado.append([])\n",
    "    for dato in row:\n",
    "        if (i == 0): # Fila de titulos\n",
    "            escalado[i].append(dato)\n",
    "        else:\n",
    "            if (j < 2): #Date y Date_Pretty\n",
    "                escalado[i].append(dato)\n",
    "            else:\n",
    "                valor = float (dato)\n",
    "                minc =  float (mins[j-2])\n",
    "                maxc =  float (maxs[j-2])\n",
    "                \n",
    "                    \n",
    "                escalado[i].append((valor - minc)*(maxc - minc)) # j - 2 por las dos primeras cols\n",
    "        j = j + 1\n",
    "    i = i + 1\n",
    "\n",
    "for row in escalado:\n",
    "    salida.writerow(row)\n",
    "\n",
    "archivoEntrada.close()\n",
    "archivoSalida.close()\n"
   ]
  },
  {
   "cell_type": "code",
   "execution_count": null,
   "metadata": {},
   "outputs": [],
   "source": []
  },
  {
   "cell_type": "code",
   "execution_count": null,
   "metadata": {},
   "outputs": [],
   "source": []
  },
  {
   "cell_type": "code",
   "execution_count": null,
   "metadata": {},
   "outputs": [],
   "source": []
  }
 ],
 "metadata": {
  "kernelspec": {
   "display_name": "Python 3",
   "language": "python",
   "name": "python3"
  },
  "language_info": {
   "codemirror_mode": {
    "name": "ipython",
    "version": 3
   },
   "file_extension": ".py",
   "mimetype": "text/x-python",
   "name": "python",
   "nbconvert_exporter": "python",
   "pygments_lexer": "ipython3",
   "version": "3.6.6"
  }
 },
 "nbformat": 4,
 "nbformat_minor": 2
}
