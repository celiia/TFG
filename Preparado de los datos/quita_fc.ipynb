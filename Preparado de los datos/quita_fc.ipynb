{
 "cells": [
  {
   "cell_type": "code",
   "execution_count": 2,
   "metadata": {},
   "outputs": [],
   "source": [
    "# quitar las dos  primeras columnas y lass cabecera para procesar\n",
    "\n",
    "import csv\n",
    "import sys\n",
    "fichero=\"open.csv\"\n",
    "archivoEntrada = open(fichero)\n",
    "entrada = csv.reader(archivoEntrada, delimiter=\",\")\n",
    "ss=fichero.split('.')\n",
    "archivoSalida=open(ss[0]+'_fc.csv',\"w\")\n",
    "salida=csv.writer(archivoSalida, delimiter=',',lineterminator='\\n')\n",
    "\n",
    "nw=[]\n",
    "rown =0\n",
    "for row in entrada:\n",
    "\t\n",
    "\tif(row[0]!='Dates'):# si no es la primera fila\n",
    "\t\t\n",
    "\t\trow.pop(0)\n",
    "\t\trow.pop(0)\n",
    "\t\t\n",
    "\t\tnw.append(row)\n",
    "\t\t# borro las columnas de date y date_pretty\n",
    "\t\trown+=1\n",
    "\n",
    "\t\t\n",
    "for row in nw:\n",
    "\t\n",
    "    salida.writerow(row)\n",
    "\n",
    "archivoEntrada.close()\n",
    "archivoSalida.close()"
   ]
  },
  {
   "cell_type": "code",
   "execution_count": null,
   "metadata": {},
   "outputs": [],
   "source": []
  }
 ],
 "metadata": {
  "kernelspec": {
   "display_name": "Python 3",
   "language": "python",
   "name": "python3"
  },
  "language_info": {
   "codemirror_mode": {
    "name": "ipython",
    "version": 3
   },
   "file_extension": ".py",
   "mimetype": "text/x-python",
   "name": "python",
   "nbconvert_exporter": "python",
   "pygments_lexer": "ipython3",
   "version": "3.7.0"
  }
 },
 "nbformat": 4,
 "nbformat_minor": 2
}
