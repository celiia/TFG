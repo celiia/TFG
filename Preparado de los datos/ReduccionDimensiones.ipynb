{
 "cells": [
  {
   "cell_type": "markdown",
   "metadata": {},
   "source": [
    "####  La tabla de agrupaciones de valores  deben de ser cuatro columnas con las cabeceras y en cada columna los  los varores pertenecientes a cada grupo "
   ]
  },
  {
   "cell_type": "code",
   "execution_count": 51,
   "metadata": {},
   "outputs": [],
   "source": [
    "import csv\n",
    "import sys\n",
    "import numpy as np\n",
    "import math\n",
    "import pandas as pd\n",
    "import matplotlib.pyplot as plt\n",
    "from sklearn.metrics import mean_squared_error\n",
    "from sklearn.decomposition import PCA\n",
    "from sklearn.cluster import KMeans\n",
    "from sklearn import linear_model\n",
    "from sklearn.preprocessing import StandardScaler\n",
    "from math import sqrt\n",
    "\n",
    "\n",
    "d = pd.read_csv(\"Agrupaciones de valores.csv\",index_col=False)\n",
    "r = pd.read_csv(\"rawVol.csv\",index_col=False)"
   ]
  },
  {
   "cell_type": "code",
   "execution_count": 52,
   "metadata": {},
   "outputs": [],
   "source": [
    "def contiene(columna,grupo):\n",
    "    for j in grupo:\n",
    "        if columna.find(str(j))!= -1 :\n",
    "            return 0\n",
    "     \n",
    "    return -1"
   ]
  },
  {
   "cell_type": "code",
   "execution_count": 53,
   "metadata": {},
   "outputs": [],
   "source": [
    "\n",
    "#hacer una tabla con grupo1 y pca\n",
    "df1=pd.DataFrame()\n",
    "#hacer una tabla con grupo2 y pca\n",
    "df2=pd.DataFrame()\n",
    "#hacer una tabla con grupo3 y pca\n",
    "df3=pd.DataFrame()\n",
    "#hacer una tabla con grupo4 y pca\n",
    "df4=pd.DataFrame()\n",
    "\n",
    "\n",
    "for i in r.columns: \n",
    "   # print(i.find('Volatility'))\n",
    "   # print(contiene(i,d.iloc[:,1]))\n",
    "    if (i.find('Volatility')!= -1) or (contiene(i,d.iloc[:,1])!=-1):  #todas las volatilidadesy tres mas\n",
    "        \n",
    "        df2[i]=r[i]\n",
    "    elif (contiene(i,d.iloc[:,0])!=-1):\n",
    "\n",
    "        df1[i]=r[i]\n",
    "        \n",
    "    elif (contiene(i,d.iloc[:,2])!=-1):\n",
    "        df3[i]=r[i]\n",
    "    elif (contiene(i,d.iloc[:,3])!=-1):\n",
    "        df4[i]=r[i]\n",
    "\n",
    "\n",
    "columna_a_explicar ='NKY_Index_Open'\n",
    "\n",
    "\n",
    "dataframes =[df1,df2,df3,df4]\n",
    "#normalizar los datos\n",
    "scaler = StandardScaler()\n",
    "pca = PCA(.90)\n",
    "df = pd.DataFrame()\n",
    "ind=1\n",
    "\n",
    "for i in dataframes:\n",
    "    if(columna_a_explicar  in i.columns):\n",
    "        i = i.drop(['NKY_Index_Open'],axis=1)\n",
    "    scaler.fit(i)\n",
    "    Xscaled = scaler.transform(i)\n",
    "    principalComponent=pca.fit_transform(Xscaled)\n",
    "    principalDf=pd.DataFrame(data=principalComponent)\n",
    "    names =principalDf.columns.values\n",
    "    names = list(map(lambda x:\"Grupo_\"+str(ind)+\"_\"+ str(x) ,names))\n",
    "    ind+=1\n",
    "    principalDf.columns=names\n",
    "    df=pd.concat([df,principalDf], axis=1, sort=False)\n",
    "\n",
    "\n",
    "df=pd.concat([r[columna_a_explicar],df], axis=1, sort=False)\n",
    "    \n",
    "df.to_csv( columna_a_explicar+'_pca.csv',header=True,index=False)\n",
    "\n"
   ]
  },
  {
   "cell_type": "code",
   "execution_count": null,
   "metadata": {},
   "outputs": [],
   "source": []
  },
  {
   "cell_type": "code",
   "execution_count": null,
   "metadata": {},
   "outputs": [],
   "source": []
  }
 ],
 "metadata": {
  "kernelspec": {
   "display_name": "Python 3",
   "language": "python",
   "name": "python3"
  },
  "language_info": {
   "codemirror_mode": {
    "name": "ipython",
    "version": 3
   },
   "file_extension": ".py",
   "mimetype": "text/x-python",
   "name": "python",
   "nbconvert_exporter": "python",
   "pygments_lexer": "ipython3",
   "version": "3.7.0"
  }
 },
 "nbformat": 4,
 "nbformat_minor": 2
}
