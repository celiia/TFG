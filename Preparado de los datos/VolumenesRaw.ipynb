{
 "cells": [
  {
   "cell_type": "code",
   "execution_count": 1,
   "metadata": {},
   "outputs": [],
   "source": [
    "import csv\n",
    "import sys\n",
    "import numpy as np\n",
    "import math\n",
    "import pandas as pd\n",
    "from sklearn.metrics import mean_squared_error\n",
    "from sklearn import linear_model\n",
    "from math import sqrt\n",
    "\n",
    "d = pd.read_csv(\"raw_open.csv\",index_col=False)\n",
    "v = pd.read_csv(\"volumenes.csv\",index_col=False)"
   ]
  },
  {
   "cell_type": "code",
   "execution_count": 2,
   "metadata": {},
   "outputs": [],
   "source": [
    "a = d.columns[0].split(\"_\")\n",
    "df = pd.DataFrame()\n",
    "vec=[]\n",
    "\n",
    "for i in v.columns:\n",
    "    a = i.split(\"_\")\n",
    "    vec.append(a[0]+\"_\"+a[1])\n",
    "\n",
    "#x=list(range(4,len(d.columns),5))\n",
    "x=list(range(0,len(d.columns)))\n",
    "indicev=0\n",
    "for i in x:\n",
    "    a = d.columns[i].split(\"_\")\n",
    "    if(a[0]+\"_\"+a[1]) in vec:\n",
    "        #df[d.columns[i-4]] =d.iloc[:,i-4]\n",
    "        #df[d.columns[i-3]] =d.iloc[:,i-3]\n",
    "        #df[d.columns[i-2]] =d.iloc[:,i-2]\n",
    "        #df[d.columns[i-1]] =d.iloc[:,i-1]\n",
    "        df[d.columns[i]] =d.iloc[:,i]   \n",
    "        df[v.columns[indicev]] =v.iloc[:,indicev]\n",
    "        indicev+=1\n",
    "        \n",
    "\n",
    "    \n",
    "df.to_csv('rawVol_open.csv',header=True,index=False)\n",
    "\n",
    "\n",
    "    \n"
   ]
  },
  {
   "cell_type": "code",
   "execution_count": null,
   "metadata": {},
   "outputs": [],
   "source": []
  }
 ],
 "metadata": {
  "kernelspec": {
   "display_name": "Python 3",
   "language": "python",
   "name": "python3"
  },
  "language_info": {
   "codemirror_mode": {
    "name": "ipython",
    "version": 3
   },
   "file_extension": ".py",
   "mimetype": "text/x-python",
   "name": "python",
   "nbconvert_exporter": "python",
   "pygments_lexer": "ipython3",
   "version": "3.7.0"
  }
 },
 "nbformat": 4,
 "nbformat_minor": 2
}
