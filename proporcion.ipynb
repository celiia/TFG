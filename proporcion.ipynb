{
 "cells": [
  {
   "cell_type": "code",
   "execution_count": 9,
   "metadata": {},
   "outputs": [
    {
     "name": "stdout",
     "output_type": "stream",
     "text": [
      "['Dates_Inc', 'Date_pretty_Inc', 'EUR_Curncy_Open_Inc', 'EUR_Curncy_Closing_Inc', 'EUR_Curncy_High_Inc', 'EUR_Curncy_Low_Inc', 'JPY_Curncy_Open_Inc', 'JPY_Curncy_Closing_Inc', 'JPY_Curncy_High_Inc', 'JPY_Curncy_Low_Inc', 'GBP_Curncy_Open_Inc', 'GBP_Curncy_Closing_Inc', 'GBP_Curncy_High_Inc', 'GBP_Curncy_Low_Inc']\n",
      "['39631', '04/07/2008', '0.0067991599999999534', '0.0067991599999999534', '0.012042200000000081', '0.0051928799999997775', '10942.954740000001', '10942.954740000001', '11231.467287', '10909.504643999999', '0.8435357999999998', '0.8437779000000003', '0.8449887000000001', '0.8091214199999999']\n",
      "['39630', '03/07/2008', '0.0028416600000000375', '0.00299972000000002', '0.007750820000000201', '0.007232579999999902', '10938.770677999999', '10938.770677999999', '11148.953778', '10928.314023', '0.8263978200000001', '0.8261571600000002', '0.8478966600000004', '0.81750672']\n",
      "['39629', '02/07/2008', '0.0', '0.003948499999999916', '0.010451099999999902', '0.0004729799999999479', '11085.688848', '11098.327434', '11165.854825999999', '10857.341369', '0.8331444199999999', '0.8343508200000003', '0.8382146599999999', '0.8251947200000003']\n",
      "['39626', '29/06/2008', '0.008329479999999782', '0.008642700000000095', '0.003948499999999916', '0.011301839999999801', '11444.430387', '11444.430387', '11452.990511000002', '11098.327434', '0.8060131200000002', '0.8062521000000001', '0.8343508200000003', '0.8007606200000003']\n"
     ]
    }
   ],
   "source": [
    "import csv\n",
    "import numpy as np\n",
    "\n",
    "archivoEntrada = open('trozoT.csv')\n",
    "entrada = csv.reader(archivoEntrada, delimiter=\";\")\n",
    "archivoSalida=open(\"difftrozo.csv\",\"w\")\n",
    "salida=csv.writer(archivoSalida, delimiter=';')\n",
    "\n",
    "diff = []\n",
    "fila = 0\n",
    "\n",
    "a = np.array(entrada)\n",
    "\n",
    "for row in entrada:\n",
    "    columna =0 # columna que voy rellenando en  la tabla\n",
    "    \n",
    "    if (row[0] == 'Dates'): #la fila de titulos\n",
    "        diff.insert(fila, [])\n",
    "       \n",
    "        for title in row:\n",
    "            diff[fila].insert(columna, (title + '_Inc'))\n",
    "            columna = columna +1\n",
    "        fila = fila + 1\n",
    "     #else: #las filas de los datos\n",
    "      #  fila = 1 #fila para saber en qué fila insertas el inc\n",
    "       # n = len(diff[0])\n",
    "       # j = 0 #j para recorrer las filas de datos\n",
    "       # for dato in row:\n",
    "        #    diff.insert(i, [])\n",
    "        #    if (j > 1 and j < (n - 2)):\n",
    "         #       diff[fila].insert(j, float(dato.replace(',', '.')) - float(row[j].replace(',', '.')))\n",
    "                #En la fila por la que vas guuardas en la posición j la dif entre el dato que hay ahí\n",
    "                #y el que hay en la siguiente fila (el del día siguiente)\n",
    "          #  j = j + 1 #paso de dato\n",
    "        #fila = fila + 1 #paso de fila\n",
    "        \n",
    "    else:\n",
    "        for dato in row:\n",
    "            if (dato == row[0]):\n",
    "                diff.insert(fila, [])\n",
    "                diff[fila].insert(columna,row[columna]) #la columna date se deja igual\n",
    "                columna = columna+1\n",
    "            elif(dato ==row[1]):\n",
    "                diff[fila].insert(columna,row[columna])# la colunma date_pretty se deja igual\n",
    "                # para los demas elementos que hay que hacer la proporcion\n",
    "                columna=columna+1\n",
    "            else:\n",
    "       \n",
    "                actual=(float(row[columna].replace(',', '.')))\n",
    "                siguiente=1.5769 #float(().replace(',', '.'))# el elemento que esta en la misma columna pero en la fila(row)de abajo\n",
    "                dif=abs(actual-siguiente)\n",
    "        \n",
    "                final = (dif/1)*(actual)\n",
    "                diff[fila].insert(columna,str(final))\n",
    "                columna= columna+1\n",
    "        \n",
    "\n",
    "for row in diff:\n",
    "    print(row)\n",
    "archivoEntrada.close()\n",
    "archivoSalida.close()\n"
   ]
  },
  {
   "cell_type": "code",
   "execution_count": null,
   "metadata": {},
   "outputs": [],
   "source": []
  }
 ],
 "metadata": {
  "kernelspec": {
   "display_name": "Python 3",
   "language": "python",
   "name": "python3"
  },
  "language_info": {
   "codemirror_mode": {
    "name": "ipython",
    "version": 3
   },
   "file_extension": ".py",
   "mimetype": "text/x-python",
   "name": "python",
   "nbconvert_exporter": "python",
   "pygments_lexer": "ipython3",
   "version": "3.6.6"
  }
 },
 "nbformat": 4,
 "nbformat_minor": 2
}
