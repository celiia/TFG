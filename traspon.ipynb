{
 "cells": [
  {
   "cell_type": "code",
   "execution_count": 21,
   "metadata": {},
   "outputs": [
    {
     "name": "stdout",
     "output_type": "stream",
     "text": [
      "[['Dates', 'Date_pretty', 'EUR_Curncy_Open', 'EUR_Curncy_Closing', 'EUR_Curncy_High', 'EUR_Curncy_Low', 'JPY_Curncy_Open', 'JPY_Curncy_Closing', 'JPY_Curncy_High', 'JPY_Curncy_Low', 'GBP_Curncy_Open', 'GBP_Curncy_Closing', 'GBP_Curncy_High', 'GBP_Curncy_Low'], ['39626', '29/06/2008', '1,5716', '1,5714', '1,5794', '1,5697', '107,77', '107,77', '107,81', '106,14', '1,9833', '1,9834', '1,9951', '1,9811'], ['39629', '02/07/2008', '1,5769', '1,5794', '1,5835', '1,5766', '106,08', '106,14', '106,46', '104,99', '1,9946', '1,9951', '1,9967', '1,9913'], ['39630', '03/07/2008', '1,5787', '1,5788', '1,5818', '1,5723', '105,38', '105,38', '106,38', '105,33', '1,9918', '1,9917', '2,0007', '1,9881'], ['39631', '04/07/2008', '1,5812', '1,5812', '1,5845', '1,5736', '105,4', '105,4', '106,77', '105,24', '1,9989', '1,999', '1,9995', '1,9846']]\n"
     ]
    }
   ],
   "source": [
    "import csv\n",
    "import datetime\n",
    "from datetime import date, timedelta\n",
    "\n",
    "archivoEntrada = open('raw.csv',encoding=\"utf8\",errors='ignore')\n",
    "entrada = csv.reader(archivoEntrada, delimiter=\";\")\n",
    "archivoSalida=open(\"rawT.csv\",\"w\",newline='')\n",
    "salida=csv.writer(archivoSalida, delimiter=';')\n",
    "\n",
    "traspuesto =[]# la columna por la que va creando la traspuesta\n",
    "j=2\n",
    "for row in entrada: # las filas de la tabla inicial\n",
    "    i=0\n",
    "    \n",
    "    \n",
    "    if (row[2]=='Dates'): #si la fila es la de fechas\n",
    "        traspuesto.insert(i,['Dates','Date_pretty'])\n",
    "        i=i+1\n",
    "        for fecha in row:\n",
    "            if(fecha.isdigit()): #por cada fecha valida\n",
    "                start = date(1900,1,1)      \n",
    "\n",
    "                delta = timedelta(int(fecha))     \n",
    "\n",
    "                offset =  start + delta   \n",
    "           \n",
    "                traspuesto.insert(i,[fecha,offset.strftime('%d/%m/%Y')]) #insertar en la posicin cero de la fila i\n",
    "                i=i+1\n",
    "     #si no es la fila de la fecha\n",
    "    else:\n",
    "        for dato in row: #en cada iteracion se rellenan para todas las monedas la informacion de un campo\n",
    "            \n",
    "            if(i==0):#en la fila 0 pongo el titulo de la columba correspondiente a j\n",
    "                traspuesto[i].insert(j,(row[0].split()[0])+'_'+(row[0].split()[1])+'_'+(row[1].split()[0]))\n",
    "                i=i+1\n",
    "            else:   #cuando dato corresponde a la informacion del dia\n",
    "                if((dato!=row[1]) and (dato !=row[2])): #si dato no es ni la columna dos ni tres que tienen string queno nos interesan\n",
    "                    traspuesto[i].insert(j,dato) #inserto en la fila i(el dia) en la columna j  que este rellenando en esta iteracion\n",
    "                    i=i+1 #aumento la  fila(dintinto dia)porque  row esta la info de varios dias\n",
    "            \n",
    "        \n",
    "    j=j+1 # la siguente columna a rellenar\n",
    "        \n",
    "        \n",
    "for fila in traspuesto:\n",
    "    salida.writerow(fila)\n",
    "\n",
    "archivoEntrada.close()\n",
    "archivoSalida.close()\n",
    "\n",
    "\n"
   ]
  },
  {
   "cell_type": "code",
   "execution_count": null,
   "metadata": {},
   "outputs": [],
   "source": []
  },
  {
   "cell_type": "code",
   "execution_count": null,
   "metadata": {},
   "outputs": [],
   "source": []
  },
  {
   "cell_type": "code",
   "execution_count": null,
   "metadata": {},
   "outputs": [],
   "source": []
  }
 ],
 "metadata": {
  "kernelspec": {
   "display_name": "Python 3",
   "language": "python",
   "name": "python3"
  },
  "language_info": {
   "codemirror_mode": {
    "name": "ipython",
    "version": 3
   },
   "file_extension": ".py",
   "mimetype": "text/x-python",
   "name": "python",
   "nbconvert_exporter": "python",
   "pygments_lexer": "ipython3",
   "version": "3.6.6"
  }
 },
 "nbformat": 4,
 "nbformat_minor": 2
}
