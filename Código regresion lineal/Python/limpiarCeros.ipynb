{
 "cells": [
  {
   "cell_type": "code",
   "execution_count": 4,
   "metadata": {},
   "outputs": [
    {
     "name": "stdout",
     "output_type": "stream",
     "text": [
      "1\n"
     ]
    }
   ],
   "source": [
    "import csv\n",
    "import sys\n",
    "fichero = \"rawTV.csv\"\n",
    "\n",
    "archivoEntrada = open(fichero)\n",
    "entrada = csv.reader(archivoEntrada,delimiter=\",\")\n",
    "\n",
    "\n",
    "results = []\n",
    "for lista in entrada: # Cada fila es una lista\n",
    "    results.append(lista)\n",
    "names = True \n",
    "fila =0\n",
    "co=0\n",
    "for i in results:\n",
    "    if(names == False):\n",
    "        \n",
    "        col =0\n",
    "        for j in i:\n",
    "          \n",
    "            if float(j) == 0:\n",
    "                results[fila][col]=0.0001\n",
    "            col+=1\n",
    "    fila+=1        \n",
    "    names = False;\n",
    "    \n",
    "   \n",
    "    \n",
    "archivoSalida=open('raw'+'.csv',\"w\")\n",
    "salida=csv.writer(archivoSalida,lineterminator='\\n', delimiter=',')\n",
    "\n",
    "for fila in results:\n",
    "    salida.writerow(fila)\n",
    "\n",
    "archivoEntrada.close()\n",
    "archivoSalida.close()"
   ]
  },
  {
   "cell_type": "code",
   "execution_count": null,
   "metadata": {},
   "outputs": [],
   "source": []
  },
  {
   "cell_type": "code",
   "execution_count": null,
   "metadata": {},
   "outputs": [],
   "source": []
  },
  {
   "cell_type": "code",
   "execution_count": null,
   "metadata": {},
   "outputs": [],
   "source": []
  }
 ],
 "metadata": {
  "kernelspec": {
   "display_name": "Python 3",
   "language": "python",
   "name": "python3"
  },
  "language_info": {
   "codemirror_mode": {
    "name": "ipython",
    "version": 3
   },
   "file_extension": ".py",
   "mimetype": "text/x-python",
   "name": "python",
   "nbconvert_exporter": "python",
   "pygments_lexer": "ipython3",
   "version": "3.7.0"
  }
 },
 "nbformat": 4,
 "nbformat_minor": 2
}
