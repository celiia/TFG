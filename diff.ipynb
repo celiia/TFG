{
 "cells": [
  {
   "cell_type": "code",
   "execution_count": 5,
   "metadata": {},
   "outputs": [],
   "source": [
    "import csv\n",
    "\n",
    "archivoEntrada = open('rawT.csv')\n",
    "entrada = csv.reader(archivoEntrada, delimiter=\",\")\n",
    "archivoSalida=open(\"diff.csv\",\"w\")\n",
    "salida=csv.writer(archivoSalida, delimiter=',')\n",
    "\n",
    "diff = []\n",
    "j = 0 #j es la fila\n",
    "for row in entrada:\n",
    "    if (j == 0): # Primera fila\n",
    "        diff.append([])\n",
    "        i = 0\n",
    "        for title in row:\n",
    "            if (row[i] == 'Dates' or row[i] == 'Date_pretty'):\n",
    "                diff[j].append(title)\n",
    "            else:\n",
    "                diff[j].append(title + '_Inc')\n",
    "            i = i + 1\n",
    "    elif (j > 1): #El resto de filas (menos la 1, que no tiene anterior)\n",
    "        diff.append([])\n",
    "        i = 0 # i es la columna\n",
    "        for dato in row:\n",
    "            if (i == 0 or i == 1): #Dates y Date_Pretty\n",
    "                diff[j-1].append(dato) #Es j-1 porque la 1 no se mete\n",
    "                \n",
    "            else: #Los valores\n",
    "                if(float(dato)!=0):\n",
    "                    diff[j-1].append(((abs(float(dato)-float(rowant[i])))/1)*float(rowant[i]))\n",
    "                else:\n",
    "                    diff[j-1].append(0)\n",
    "                    \n",
    "            i = i + 1\n",
    "    rowant = row\n",
    "\n",
    "    j = j + 1\n",
    "\n",
    "for row in diff:\n",
    "    salida.writerow(row)\n",
    "\n",
    "archivoEntrada.close()\n",
    "archivoSalida.close()"
   ]
  },
  {
   "cell_type": "code",
   "execution_count": null,
   "metadata": {},
   "outputs": [],
   "source": []
  }
 ],
 "metadata": {
  "kernelspec": {
   "display_name": "Python 3",
   "language": "python",
   "name": "python3"
  },
  "language_info": {
   "codemirror_mode": {
    "name": "ipython",
    "version": 3
   },
   "file_extension": ".py",
   "mimetype": "text/x-python",
   "name": "python",
   "nbconvert_exporter": "python",
   "pygments_lexer": "ipython3",
   "version": "3.6.6"
  }
 },
 "nbformat": 4,
 "nbformat_minor": 2
}
