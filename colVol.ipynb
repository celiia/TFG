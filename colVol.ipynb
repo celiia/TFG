{
 "cells": [
  {
   "cell_type": "code",
   "execution_count": 3,
   "metadata": {},
   "outputs": [
    {
     "name": "stderr",
     "output_type": "stream",
     "text": [
      "IOPub data rate exceeded.\n",
      "The notebook server will temporarily stop sending output\n",
      "to the client in order to avoid crashing it.\n",
      "To change this limit, set the config variable\n",
      "`--NotebookApp.iopub_data_rate_limit`.\n",
      "\n",
      "Current values:\n",
      "NotebookApp.iopub_data_rate_limit=1000000.0 (bytes/sec)\n",
      "NotebookApp.rate_limit_window=3.0 (secs)\n",
      "\n"
     ]
    }
   ],
   "source": [
    "import csv\n",
    "\n",
    "archivoEntrada = open('rawT.csv')\n",
    "entrada = csv.reader(archivoEntrada, delimiter=\",\")\n",
    "archivoSalida=open(\"rawTV.csv\",\"w\")\n",
    "salida=csv.writer(archivoSalida, delimiter=',')\n",
    "\n",
    "rawtv= []\n",
    "nrow=0\n",
    "poshigh=2\n",
    "poslow=3\n",
    "k=-2\n",
    "for row in entrada:\n",
    "    \n",
    "    \n",
    "    rawtv.append([])\n",
    "       #fila de nombres\n",
    "    if(row[0]=='Dates'):\n",
    "        \n",
    "        for dato in row:\n",
    "           \n",
    "                \n",
    "            if(dato.endswith(\"Low\")):\n",
    "                rawtv[nrow].append(dato)\n",
    "                partes=dato.split(\"_\")\n",
    "                rawtv[nrow].append(partes[0]+'_'+partes[1]+'_Volatility')\n",
    "            else:\n",
    "                 rawtv[nrow].append(dato)\n",
    "            k=k+1\n",
    "        \n",
    "       #filas de datos\n",
    "    else:\n",
    "        \n",
    "        col=0\n",
    "        high=0\n",
    "        low=0\n",
    "        vol=0\n",
    "       \n",
    "        for dato in row:\n",
    "           \n",
    "            \n",
    "            if(col!=0 and col !=1):#guardo los valores e high y low\n",
    "                \n",
    "                if(vol==poshigh):\n",
    "                    high=dato\n",
    "                    \n",
    "                elif(vol==poslow):\n",
    "                    low=dato\n",
    "                    \n",
    "                vol=vol+1\n",
    "                \n",
    "              \n",
    "            if(vol!=poslow+1):# si es una columna dostinta de low(ultima) guardo el dato normal\n",
    "                rawtv[nrow].append(dato)\n",
    "            else:#melo low y volatility\n",
    "                rawtv[nrow].append(dato)\n",
    "                dd=float(high)-float(low)\n",
    "                \n",
    "           \n",
    "                rawtv[nrow].append(dd)\n",
    "                vol=0\n",
    "            \n",
    "                \n",
    "            col=col+1\n",
    "    nrow=nrow+1\n",
    "\n",
    "print(rawtv)\n",
    "for fila in rawtv:\n",
    "    salida.writerow(fila)\n",
    "\n",
    "archivoEntrada.close()\n",
    "archivoSalida.close()"
   ]
  },
  {
   "cell_type": "code",
   "execution_count": null,
   "metadata": {},
   "outputs": [],
   "source": []
  },
  {
   "cell_type": "code",
   "execution_count": null,
   "metadata": {},
   "outputs": [],
   "source": []
  },
  {
   "cell_type": "code",
   "execution_count": null,
   "metadata": {},
   "outputs": [],
   "source": []
  }
 ],
 "metadata": {
  "kernelspec": {
   "display_name": "Python 3",
   "language": "python",
   "name": "python3"
  },
  "language_info": {
   "codemirror_mode": {
    "name": "ipython",
    "version": 3
   },
   "file_extension": ".py",
   "mimetype": "text/x-python",
   "name": "python",
   "nbconvert_exporter": "python",
   "pygments_lexer": "ipython3",
   "version": "3.6.6"
  }
 },
 "nbformat": 4,
 "nbformat_minor": 2
}
